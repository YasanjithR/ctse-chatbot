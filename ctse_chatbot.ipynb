{
 "cells": [
  {
   "cell_type": "code",
   "execution_count": 22,
   "id": "5c7ca646",
   "metadata": {},
   "outputs": [],
   "source": [
    "from langchain.prompts import ChatPromptTemplate\n",
    "from langchain.chains.combine_documents import create_stuff_documents_chain\n",
    "from langchain.chains import RetrievalQA\n",
    "from langchain.llms import OpenAI\n",
    "from langchain.vectorstores import FAISS\n",
    "from langchain.embeddings import OpenAIEmbeddings\n",
    "from langchain.document_loaders import PyPDFLoader\n",
    "from langchain.text_splitter import RecursiveCharacterTextSplitter\n",
    "from langchain.chains import RetrievalQA\n",
    "from dotenv import load_dotenv\n",
    "import os\n"
   ]
  },
  {
   "cell_type": "code",
   "execution_count": 23,
   "id": "407a2f26",
   "metadata": {},
   "outputs": [],
   "source": [
    "load_dotenv() \n",
    "api_key = os.getenv(\"OPENAI_API_KEY\")\n",
    "os.environ[\"OPENAI_API_KEY\"] = api_key"
   ]
  },
  {
   "cell_type": "code",
   "execution_count": 24,
   "id": "7d67bb1c",
   "metadata": {},
   "outputs": [],
   "source": [
    "loader = PyPDFLoader(\"documents/ctse.pdf\")\n",
    "documents = loader.load()\n",
    "text_splitter = RecursiveCharacterTextSplitter(chunk_size=1000, chunk_overlap=200)\n",
    "split_docs = text_splitter.split_documents(documents)"
   ]
  },
  {
   "cell_type": "code",
   "execution_count": 25,
   "id": "2d53f999",
   "metadata": {},
   "outputs": [],
   "source": [
    "embedding = OpenAIEmbeddings()\n",
    "vectorstore = FAISS.from_documents(split_docs, embedding)\n",
    "retriever = vectorstore.as_retriever()"
   ]
  },
  {
   "cell_type": "code",
   "execution_count": 26,
   "id": "e337266b",
   "metadata": {},
   "outputs": [],
   "source": [
    "prompt_template = ChatPromptTemplate.from_template(\"\"\"\n",
    "You are an intelligent assistant helping software engineering students understand their lecture material.\n",
    "\n",
    "Use the following retrieved lecture content to answer the user's question clearly, concisely, and helpfully. If the context is not sufficient to answer the question, say so honestly.\n",
    "\n",
    "Retrieved Lecture Context:\n",
    "{context}\n",
    "\n",
    "Student Question:\n",
    "{question}\n",
    "\n",
    "Answer:\n",
    "\"\"\")"
   ]
  },
  {
   "cell_type": "code",
   "execution_count": 27,
   "id": "8d41fba3",
   "metadata": {},
   "outputs": [],
   "source": [
    "llm = OpenAI(temperature=0.7)\n",
    "document_chain = create_stuff_documents_chain(llm, prompt_template)\n"
   ]
  },
  {
   "cell_type": "code",
   "execution_count": 28,
   "id": "d26f64f5",
   "metadata": {},
   "outputs": [],
   "source": [
    "rag_chain = RetrievalQA.from_chain_type(\n",
    "    llm=llm,\n",
    "    retriever=retriever,\n",
    "    chain_type=\"stuff\",\n",
    "    chain_type_kwargs={\"prompt\": prompt_template}\n",
    ")"
   ]
  },
  {
   "cell_type": "code",
   "execution_count": null,
   "id": "071372fb",
   "metadata": {},
   "outputs": [
    {
     "name": "stdout",
     "output_type": "stream",
     "text": [
      "Bot: \n",
      "DevOps is a set of practices that aim to improve collaboration and communication between software development and operations teams. It promotes a culture of shared responsibility and ownership among team members, reduces organizational silos, and encourages everyone to work towards a common goal of delivering high-quality software efficiently. By implementing DevOps, teams can measure everything from application performance to system monitoring and metrics, allowing for continuous improvement and faster response to issues. Gradual changes and frequent deployments also help in ensuring a stable and reliable software release process. Additionally, DevOps encourages a mindset of accepting failure as normal and focuses on blameless post-mortems and risk-taking to drive innovation. Leveraging tooling and automation is also a key aspect of DevOps, as it can help reduce manual work and improve efficiency. Overall, DevOps helps teams deliver better software faster and with fewer errors, ultimately benefiting both the organization and its customers.\n",
      "\n",
      "Goodbye!\n"
     ]
    }
   ],
   "source": [
    "\n",
    "while True:\n",
    "    user_query = input(\"You: \")\n",
    "    if user_query.lower() == \"exit\":\n",
    "        print(\"Goodbye!\")\n",
    "        break\n",
    "    \n",
    "\n",
    "    response = rag_chain({\"query\": user_query})\n",
    "\n",
    "\n",
    "    \n",
    "\n",
    "    if isinstance(response, dict):\n",
    "\n",
    "        result = response.get(\"result\", response.get(\"answer\", response.get(\"output\", str(response))))\n",
    "        print(f\"Bot: {result}\\n\")\n",
    "    else:\n",
    "        print(f\"Bot: {response}\\n\")"
   ]
  }
 ],
 "metadata": {
  "kernelspec": {
   "display_name": "venv",
   "language": "python",
   "name": "python3"
  },
  "language_info": {
   "codemirror_mode": {
    "name": "ipython",
    "version": 3
   },
   "file_extension": ".py",
   "mimetype": "text/x-python",
   "name": "python",
   "nbconvert_exporter": "python",
   "pygments_lexer": "ipython3",
   "version": "3.11.3"
  }
 },
 "nbformat": 4,
 "nbformat_minor": 5
}
