{
 "cells": [
  {
   "cell_type": "code",
   "execution_count": 30,
   "id": "5c7ca646",
   "metadata": {},
   "outputs": [],
   "source": [
    "from langchain.prompts import ChatPromptTemplate\n",
    "from langchain.chains.combine_documents import create_stuff_documents_chain\n",
    "from langchain.chains import RetrievalQA\n",
    "from langchain.llms import OpenAI\n",
    "from langchain.vectorstores import FAISS\n",
    "from langchain.embeddings import OpenAIEmbeddings\n",
    "from langchain.document_loaders import PyPDFLoader\n",
    "from langchain.text_splitter import RecursiveCharacterTextSplitter\n",
    "from langchain.chains import RetrievalQA\n",
    "from dotenv import load_dotenv\n",
    "import os\n"
   ]
  },
  {
   "cell_type": "code",
   "execution_count": 31,
   "id": "407a2f26",
   "metadata": {},
   "outputs": [],
   "source": [
    "load_dotenv() \n",
    "api_key = os.getenv(\"OPENAI_API_KEY\")\n",
    "os.environ[\"OPENAI_API_KEY\"] = api_key"
   ]
  },
  {
   "cell_type": "code",
   "execution_count": 32,
   "id": "7d67bb1c",
   "metadata": {},
   "outputs": [],
   "source": [
    "loader = PyPDFLoader(\"documents/ctse.pdf\")\n",
    "documents = loader.load()\n",
    "text_splitter = RecursiveCharacterTextSplitter(chunk_size=1000, chunk_overlap=200)\n",
    "split_docs = text_splitter.split_documents(documents)"
   ]
  },
  {
   "cell_type": "code",
   "execution_count": 33,
   "id": "2d53f999",
   "metadata": {},
   "outputs": [],
   "source": [
    "embedding = OpenAIEmbeddings()\n",
    "vectorstore = FAISS.from_documents(split_docs, embedding)\n",
    "retriever = vectorstore.as_retriever()"
   ]
  },
  {
   "cell_type": "code",
   "execution_count": 34,
   "id": "e337266b",
   "metadata": {},
   "outputs": [],
   "source": [
    "prompt_template = ChatPromptTemplate.from_template(\"\"\"\n",
    "You are an intelligent assistant helping software engineering students understand their lecture material.\n",
    "\n",
    "Use the following retrieved lecture content to answer the user's question clearly, concisely, and helpfully. If the context is not sufficient to answer the question, say so honestly.\n",
    "\n",
    "Retrieved Lecture Context:\n",
    "{context}\n",
    "\n",
    "Student Question:\n",
    "{question}\n",
    "\n",
    "Answer:\n",
    "\"\"\")"
   ]
  },
  {
   "cell_type": "code",
   "execution_count": 35,
   "id": "8d41fba3",
   "metadata": {},
   "outputs": [],
   "source": [
    "llm = OpenAI(temperature=0.7)\n",
    "document_chain = create_stuff_documents_chain(llm, prompt_template)\n"
   ]
  },
  {
   "cell_type": "code",
   "execution_count": 36,
   "id": "d26f64f5",
   "metadata": {},
   "outputs": [],
   "source": [
    "rag_chain = RetrievalQA.from_chain_type(\n",
    "    llm=llm,\n",
    "    retriever=retriever,\n",
    "    chain_type=\"stuff\",\n",
    "    chain_type_kwargs={\"prompt\": prompt_template}\n",
    ")"
   ]
  },
  {
   "cell_type": "code",
   "execution_count": 37,
   "id": "071372fb",
   "metadata": {},
   "outputs": [
    {
     "name": "stdout",
     "output_type": "stream",
     "text": [
      "Bot: The main point of implementing DevOps practices is to improve collaboration and communication between developers and operators. It aims to break down organizational silos and promote shared ownership of production. Other key aspects include measuring everything, implementing gradual changes, accepting failure as normal, and leveraging tooling and automation to increase efficiency and productivity. Ultimately, the goal of DevOps is to achieve agility and stability in software development and operations.\n",
      "\n",
      "Goodbye!\n"
     ]
    }
   ],
   "source": [
    "\n",
    "while True:\n",
    "    user_query = input(\"You: \")\n",
    "    if user_query.lower() == \"exit\":\n",
    "        print(\"Goodbye!\")\n",
    "        break\n",
    "    \n",
    "\n",
    "    response = rag_chain({\"query\": user_query})\n",
    "\n",
    "\n",
    "    \n",
    "\n",
    "    if isinstance(response, dict):\n",
    "\n",
    "        result = response.get(\"result\", response.get(\"answer\", response.get(\"output\", str(response))))\n",
    "        print(f\"Bot: {result}\\n\")\n",
    "    else:\n",
    "        print(f\"Bot: {response}\\n\")"
   ]
  }
 ],
 "metadata": {
  "kernelspec": {
   "display_name": "venv",
   "language": "python",
   "name": "python3"
  },
  "language_info": {
   "codemirror_mode": {
    "name": "ipython",
    "version": 3
   },
   "file_extension": ".py",
   "mimetype": "text/x-python",
   "name": "python",
   "nbconvert_exporter": "python",
   "pygments_lexer": "ipython3",
   "version": "3.11.3"
  }
 },
 "nbformat": 4,
 "nbformat_minor": 5
}
